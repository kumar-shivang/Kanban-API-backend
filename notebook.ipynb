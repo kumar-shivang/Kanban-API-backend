{
 "cells": [
  {
   "cell_type": "code",
   "execution_count": 12,
   "metadata": {},
   "outputs": [],
   "source": [
    "# from main import db # Import the database object from the app folder\n",
    "# from datetime import date, timedelta # Import the date and timedelta classes from the datetime module\n",
    "# from database.card_model import Card # Import the Card class from the card_model file in the database/card folder\n",
    "from database.user_model import User # Import the User class from the user_model file in the database/user folder\n",
    "# from database.list_model import List # Import the List class from the list_model file in the database/list folder"
   ]
  },
  {
   "cell_type": "code",
   "execution_count": 13,
   "metadata": {},
   "outputs": [
    {
     "ename": "InvalidRequestError",
     "evalue": "One or more mappers failed to initialize - can't proceed with initialization of other mappers. Triggering mapper: 'mapped class User->user'. Original exception was: Could not determine join condition between parent/child tables on relationship User.userCards - there are no foreign keys linking these tables.  Ensure that referencing columns are associated with a ForeignKey or ForeignKeyConstraint, or specify a 'primaryjoin' expression.",
     "output_type": "error",
     "traceback": [
      "\u001b[0;31m---------------------------------------------------------------------------\u001b[0m",
      "\u001b[0;31mInvalidRequestError\u001b[0m                       Traceback (most recent call last)",
      "Cell \u001b[0;32mIn[13], line 1\u001b[0m\n\u001b[0;32m----> 1\u001b[0m user1 \u001b[39m=\u001b[39m User(\u001b[39m\"\u001b[39;49m\u001b[39muser1\u001b[39;49m\u001b[39m\"\u001b[39;49m,\u001b[39m\"\u001b[39;49m\u001b[39mpassword\u001b[39;49m\u001b[39m\"\u001b[39;49m)\n",
      "File \u001b[0;32m<string>:4\u001b[0m, in \u001b[0;36m__init__\u001b[0;34m(self, username, password, email)\u001b[0m\n",
      "File \u001b[0;32m~/PycharmProjects/Kanban/venv/lib64/python3.11/site-packages/sqlalchemy/orm/state.py:476\u001b[0m, in \u001b[0;36mInstanceState._initialize_instance\u001b[0;34m(*mixed, **kwargs)\u001b[0m\n\u001b[1;32m    473\u001b[0m \u001b[39mself\u001b[39m, instance, args \u001b[39m=\u001b[39m mixed[\u001b[39m0\u001b[39m], mixed[\u001b[39m1\u001b[39m], mixed[\u001b[39m2\u001b[39m:]  \u001b[39m# noqa\u001b[39;00m\n\u001b[1;32m    474\u001b[0m manager \u001b[39m=\u001b[39m \u001b[39mself\u001b[39m\u001b[39m.\u001b[39mmanager\n\u001b[0;32m--> 476\u001b[0m manager\u001b[39m.\u001b[39;49mdispatch\u001b[39m.\u001b[39;49minit(\u001b[39mself\u001b[39;49m, args, kwargs)\n\u001b[1;32m    478\u001b[0m \u001b[39mtry\u001b[39;00m:\n\u001b[1;32m    479\u001b[0m     \u001b[39mreturn\u001b[39;00m manager\u001b[39m.\u001b[39moriginal_init(\u001b[39m*\u001b[39mmixed[\u001b[39m1\u001b[39m:], \u001b[39m*\u001b[39m\u001b[39m*\u001b[39mkwargs)\n",
      "File \u001b[0;32m~/PycharmProjects/Kanban/venv/lib64/python3.11/site-packages/sqlalchemy/event/attr.py:334\u001b[0m, in \u001b[0;36m_CompoundListener.__call__\u001b[0;34m(self, *args, **kw)\u001b[0m\n\u001b[1;32m    332\u001b[0m     fn(\u001b[39m*\u001b[39margs, \u001b[39m*\u001b[39m\u001b[39m*\u001b[39mkw)\n\u001b[1;32m    333\u001b[0m \u001b[39mfor\u001b[39;00m fn \u001b[39min\u001b[39;00m \u001b[39mself\u001b[39m\u001b[39m.\u001b[39mlisteners:\n\u001b[0;32m--> 334\u001b[0m     fn(\u001b[39m*\u001b[39;49margs, \u001b[39m*\u001b[39;49m\u001b[39m*\u001b[39;49mkw)\n",
      "File \u001b[0;32m~/PycharmProjects/Kanban/venv/lib64/python3.11/site-packages/sqlalchemy/orm/mapper.py:3716\u001b[0m, in \u001b[0;36m_event_on_init\u001b[0;34m(state, args, kwargs)\u001b[0m\n\u001b[1;32m   3714\u001b[0m instrumenting_mapper \u001b[39m=\u001b[39m state\u001b[39m.\u001b[39mmanager\u001b[39m.\u001b[39mmapper\n\u001b[1;32m   3715\u001b[0m \u001b[39mif\u001b[39;00m instrumenting_mapper:\n\u001b[0;32m-> 3716\u001b[0m     instrumenting_mapper\u001b[39m.\u001b[39;49m_check_configure()\n\u001b[1;32m   3717\u001b[0m     \u001b[39mif\u001b[39;00m instrumenting_mapper\u001b[39m.\u001b[39m_set_polymorphic_identity:\n\u001b[1;32m   3718\u001b[0m         instrumenting_mapper\u001b[39m.\u001b[39m_set_polymorphic_identity(state)\n",
      "File \u001b[0;32m~/PycharmProjects/Kanban/venv/lib64/python3.11/site-packages/sqlalchemy/orm/mapper.py:1941\u001b[0m, in \u001b[0;36mMapper._check_configure\u001b[0;34m(self)\u001b[0m\n\u001b[1;32m   1939\u001b[0m \u001b[39mdef\u001b[39;00m \u001b[39m_check_configure\u001b[39m(\u001b[39mself\u001b[39m):\n\u001b[1;32m   1940\u001b[0m     \u001b[39mif\u001b[39;00m \u001b[39mself\u001b[39m\u001b[39m.\u001b[39mregistry\u001b[39m.\u001b[39m_new_mappers:\n\u001b[0;32m-> 1941\u001b[0m         _configure_registries({\u001b[39mself\u001b[39;49m\u001b[39m.\u001b[39;49mregistry}, cascade\u001b[39m=\u001b[39;49m\u001b[39mTrue\u001b[39;49;00m)\n",
      "File \u001b[0;32m~/PycharmProjects/Kanban/venv/lib64/python3.11/site-packages/sqlalchemy/orm/mapper.py:3527\u001b[0m, in \u001b[0;36m_configure_registries\u001b[0;34m(registries, cascade)\u001b[0m\n\u001b[1;32m   3521\u001b[0m     Mapper\u001b[39m.\u001b[39mdispatch\u001b[39m.\u001b[39m_for_class(Mapper)\u001b[39m.\u001b[39mbefore_configured()\n\u001b[1;32m   3522\u001b[0m     \u001b[39m# initialize properties on all mappers\u001b[39;00m\n\u001b[1;32m   3523\u001b[0m     \u001b[39m# note that _mapper_registry is unordered, which\u001b[39;00m\n\u001b[1;32m   3524\u001b[0m     \u001b[39m# may randomly conceal/reveal issues related to\u001b[39;00m\n\u001b[1;32m   3525\u001b[0m     \u001b[39m# the order of mapper compilation\u001b[39;00m\n\u001b[0;32m-> 3527\u001b[0m     _do_configure_registries(registries, cascade)\n\u001b[1;32m   3528\u001b[0m \u001b[39mfinally\u001b[39;00m:\n\u001b[1;32m   3529\u001b[0m     _already_compiling \u001b[39m=\u001b[39m \u001b[39mFalse\u001b[39;00m\n",
      "File \u001b[0;32m~/PycharmProjects/Kanban/venv/lib64/python3.11/site-packages/sqlalchemy/orm/mapper.py:3562\u001b[0m, in \u001b[0;36m_do_configure_registries\u001b[0;34m(registries, cascade)\u001b[0m\n\u001b[1;32m   3554\u001b[0m     e \u001b[39m=\u001b[39m sa_exc\u001b[39m.\u001b[39mInvalidRequestError(\n\u001b[1;32m   3555\u001b[0m         \u001b[39m\"\u001b[39m\u001b[39mOne or more mappers failed to initialize - \u001b[39m\u001b[39m\"\u001b[39m\n\u001b[1;32m   3556\u001b[0m         \u001b[39m\"\u001b[39m\u001b[39mcan\u001b[39m\u001b[39m'\u001b[39m\u001b[39mt proceed with initialization of other \u001b[39m\u001b[39m\"\u001b[39m\n\u001b[0;32m   (...)\u001b[0m\n\u001b[1;32m   3559\u001b[0m         \u001b[39m%\u001b[39m (mapper, mapper\u001b[39m.\u001b[39m_configure_failed)\n\u001b[1;32m   3560\u001b[0m     )\n\u001b[1;32m   3561\u001b[0m     e\u001b[39m.\u001b[39m_configure_failed \u001b[39m=\u001b[39m mapper\u001b[39m.\u001b[39m_configure_failed\n\u001b[0;32m-> 3562\u001b[0m     \u001b[39mraise\u001b[39;00m e\n\u001b[1;32m   3564\u001b[0m \u001b[39mif\u001b[39;00m \u001b[39mnot\u001b[39;00m mapper\u001b[39m.\u001b[39mconfigured:\n\u001b[1;32m   3565\u001b[0m     \u001b[39mtry\u001b[39;00m:\n",
      "\u001b[0;31mInvalidRequestError\u001b[0m: One or more mappers failed to initialize - can't proceed with initialization of other mappers. Triggering mapper: 'mapped class User->user'. Original exception was: Could not determine join condition between parent/child tables on relationship User.userCards - there are no foreign keys linking these tables.  Ensure that referencing columns are associated with a ForeignKey or ForeignKeyConstraint, or specify a 'primaryjoin' expression."
     ]
    }
   ],
   "source": [
    "user1 = User(\"user1\",\"password\")"
   ]
  },
  {
   "cell_type": "code",
   "execution_count": 17,
   "metadata": {},
   "outputs": [],
   "source": [
    "from app import db,app"
   ]
  },
  {
   "cell_type": "code",
   "execution_count": 15,
   "metadata": {},
   "outputs": [
    {
     "ename": "RuntimeError",
     "evalue": "Working outside of application context.\n\nThis typically means that you attempted to use functionality that needed\nthe current application. To solve this, set up an application context\nwith app.app_context(). See the documentation for more information.",
     "output_type": "error",
     "traceback": [
      "\u001b[0;31m---------------------------------------------------------------------------\u001b[0m",
      "\u001b[0;31mRuntimeError\u001b[0m                              Traceback (most recent call last)",
      "Cell \u001b[0;32mIn[15], line 1\u001b[0m\n\u001b[0;32m----> 1\u001b[0m db\u001b[39m.\u001b[39;49mcreate_all()\n",
      "File \u001b[0;32m~/PycharmProjects/Kanban/venv/lib/python3.11/site-packages/flask_sqlalchemy/extension.py:868\u001b[0m, in \u001b[0;36mSQLAlchemy.create_all\u001b[0;34m(self, bind_key)\u001b[0m\n\u001b[1;32m    851\u001b[0m \u001b[39mdef\u001b[39;00m \u001b[39mcreate_all\u001b[39m(\u001b[39mself\u001b[39m, bind_key: \u001b[39mstr\u001b[39m \u001b[39m|\u001b[39m \u001b[39mNone\u001b[39;00m \u001b[39m|\u001b[39m \u001b[39mlist\u001b[39m[\u001b[39mstr\u001b[39m \u001b[39m|\u001b[39m \u001b[39mNone\u001b[39;00m] \u001b[39m=\u001b[39m \u001b[39m\"\u001b[39m\u001b[39m__all__\u001b[39m\u001b[39m\"\u001b[39m) \u001b[39m-\u001b[39m\u001b[39m>\u001b[39m \u001b[39mNone\u001b[39;00m:\n\u001b[1;32m    852\u001b[0m     \u001b[39m\"\"\"Create tables that do not exist in the database by calling\u001b[39;00m\n\u001b[1;32m    853\u001b[0m \u001b[39m    ``metadata.create_all()`` for all or some bind keys. This does not\u001b[39;00m\n\u001b[1;32m    854\u001b[0m \u001b[39m    update existing tables, use a migration library for that.\u001b[39;00m\n\u001b[0;32m   (...)\u001b[0m\n\u001b[1;32m    866\u001b[0m \u001b[39m        Added the ``bind`` and ``app`` parameters.\u001b[39;00m\n\u001b[1;32m    867\u001b[0m \u001b[39m    \"\"\"\u001b[39;00m\n\u001b[0;32m--> 868\u001b[0m     \u001b[39mself\u001b[39;49m\u001b[39m.\u001b[39;49m_call_for_binds(bind_key, \u001b[39m\"\u001b[39;49m\u001b[39mcreate_all\u001b[39;49m\u001b[39m\"\u001b[39;49m)\n",
      "File \u001b[0;32m~/PycharmProjects/Kanban/venv/lib/python3.11/site-packages/flask_sqlalchemy/extension.py:839\u001b[0m, in \u001b[0;36mSQLAlchemy._call_for_binds\u001b[0;34m(self, bind_key, op_name)\u001b[0m\n\u001b[1;32m    837\u001b[0m \u001b[39mfor\u001b[39;00m key \u001b[39min\u001b[39;00m keys:\n\u001b[1;32m    838\u001b[0m     \u001b[39mtry\u001b[39;00m:\n\u001b[0;32m--> 839\u001b[0m         engine \u001b[39m=\u001b[39m \u001b[39mself\u001b[39;49m\u001b[39m.\u001b[39;49mengines[key]\n\u001b[1;32m    840\u001b[0m     \u001b[39mexcept\u001b[39;00m \u001b[39mKeyError\u001b[39;00m:\n\u001b[1;32m    841\u001b[0m         message \u001b[39m=\u001b[39m \u001b[39mf\u001b[39m\u001b[39m\"\u001b[39m\u001b[39mBind key \u001b[39m\u001b[39m'\u001b[39m\u001b[39m{\u001b[39;00mkey\u001b[39m}\u001b[39;00m\u001b[39m'\u001b[39m\u001b[39m is not in \u001b[39m\u001b[39m'\u001b[39m\u001b[39mSQLALCHEMY_BINDS\u001b[39m\u001b[39m'\u001b[39m\u001b[39m config.\u001b[39m\u001b[39m\"\u001b[39m\n",
      "File \u001b[0;32m~/PycharmProjects/Kanban/venv/lib/python3.11/site-packages/flask_sqlalchemy/extension.py:628\u001b[0m, in \u001b[0;36mSQLAlchemy.engines\u001b[0;34m(self)\u001b[0m\n\u001b[1;32m    615\u001b[0m \u001b[39m@property\u001b[39m\n\u001b[1;32m    616\u001b[0m \u001b[39mdef\u001b[39;00m \u001b[39mengines\u001b[39m(\u001b[39mself\u001b[39m) \u001b[39m-\u001b[39m\u001b[39m>\u001b[39m t\u001b[39m.\u001b[39mMapping[\u001b[39mstr\u001b[39m \u001b[39m|\u001b[39m \u001b[39mNone\u001b[39;00m, sa\u001b[39m.\u001b[39mengine\u001b[39m.\u001b[39mEngine]:\n\u001b[1;32m    617\u001b[0m     \u001b[39m\"\"\"Map of bind keys to :class:`sqlalchemy.engine.Engine` instances for current\u001b[39;00m\n\u001b[1;32m    618\u001b[0m \u001b[39m    application. The ``None`` key refers to the default engine, and is available as\u001b[39;00m\n\u001b[1;32m    619\u001b[0m \u001b[39m    :attr:`engine`.\u001b[39;00m\n\u001b[0;32m   (...)\u001b[0m\n\u001b[1;32m    626\u001b[0m \u001b[39m    .. versionadded:: 3.0\u001b[39;00m\n\u001b[1;32m    627\u001b[0m \u001b[39m    \"\"\"\u001b[39;00m\n\u001b[0;32m--> 628\u001b[0m     app \u001b[39m=\u001b[39m current_app\u001b[39m.\u001b[39;49m_get_current_object()  \u001b[39m# type: ignore[attr-defined]\u001b[39;00m\n\u001b[1;32m    629\u001b[0m     \u001b[39mreturn\u001b[39;00m \u001b[39mself\u001b[39m\u001b[39m.\u001b[39m_app_engines[app]\n",
      "File \u001b[0;32m~/PycharmProjects/Kanban/venv/lib/python3.11/site-packages/werkzeug/local.py:513\u001b[0m, in \u001b[0;36mLocalProxy.__init__.<locals>._get_current_object\u001b[0;34m()\u001b[0m\n\u001b[1;32m    511\u001b[0m     obj \u001b[39m=\u001b[39m local\u001b[39m.\u001b[39mget()  \u001b[39m# type: ignore[union-attr]\u001b[39;00m\n\u001b[1;32m    512\u001b[0m \u001b[39mexcept\u001b[39;00m \u001b[39mLookupError\u001b[39;00m:\n\u001b[0;32m--> 513\u001b[0m     \u001b[39mraise\u001b[39;00m \u001b[39mRuntimeError\u001b[39;00m(unbound_message) \u001b[39mfrom\u001b[39;00m \u001b[39mNone\u001b[39m\n\u001b[1;32m    515\u001b[0m \u001b[39mreturn\u001b[39;00m get_name(obj)\n",
      "\u001b[0;31mRuntimeError\u001b[0m: Working outside of application context.\n\nThis typically means that you attempted to use functionality that needed\nthe current application. To solve this, set up an application context\nwith app.app_context(). See the documentation for more information."
     ]
    }
   ],
   "source": []
  }
 ],
 "metadata": {
  "kernelspec": {
   "display_name": "venv",
   "language": "python",
   "name": "python3"
  },
  "language_info": {
   "codemirror_mode": {
    "name": "ipython",
    "version": 3
   },
   "file_extension": ".py",
   "mimetype": "text/x-python",
   "name": "python",
   "nbconvert_exporter": "python",
   "pygments_lexer": "ipython3",
   "version": "3.11.0"
  },
  "orig_nbformat": 4,
  "vscode": {
   "interpreter": {
    "hash": "57495db1da799af63e12dc0c560893d2fa219217a9ab10e8b42ae5c2b6b596f0"
   }
  }
 },
 "nbformat": 4,
 "nbformat_minor": 2
}
